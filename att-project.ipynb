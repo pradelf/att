{
 "cells": [
  {
   "cell_type": "code",
   "execution_count": 1,
   "id": "b406bfa5",
   "metadata": {},
   "outputs": [],
   "source": [
    "import pandas as pd\n",
    "import numpy as np\n"
   ]
  },
  {
   "cell_type": "code",
   "execution_count": 16,
   "id": "21339006",
   "metadata": {},
   "outputs": [],
   "source": [
    "df=pd.read_csv(\"./spam.csv\",encoding=\"ISO-8859-1\")#encoding=\"Windows-1252\")"
   ]
  },
  {
   "cell_type": "code",
   "execution_count": 19,
   "id": "e99d8e88",
   "metadata": {},
   "outputs": [
    {
     "name": "stdout",
     "output_type": "stream",
     "text": [
      "Describe\n"
     ]
    },
    {
     "data": {
      "text/html": [
       "<div>\n",
       "<style scoped>\n",
       "    .dataframe tbody tr th:only-of-type {\n",
       "        vertical-align: middle;\n",
       "    }\n",
       "\n",
       "    .dataframe tbody tr th {\n",
       "        vertical-align: top;\n",
       "    }\n",
       "\n",
       "    .dataframe thead th {\n",
       "        text-align: right;\n",
       "    }\n",
       "</style>\n",
       "<table border=\"1\" class=\"dataframe\">\n",
       "  <thead>\n",
       "    <tr style=\"text-align: right;\">\n",
       "      <th></th>\n",
       "      <th>v1</th>\n",
       "      <th>v2</th>\n",
       "      <th>v3</th>\n",
       "      <th>v4</th>\n",
       "      <th>v5</th>\n",
       "    </tr>\n",
       "  </thead>\n",
       "  <tbody>\n",
       "    <tr>\n",
       "      <th>count</th>\n",
       "      <td>5572</td>\n",
       "      <td>5572</td>\n",
       "      <td>50</td>\n",
       "      <td>12</td>\n",
       "      <td>6</td>\n",
       "    </tr>\n",
       "    <tr>\n",
       "      <th>unique</th>\n",
       "      <td>2</td>\n",
       "      <td>5169</td>\n",
       "      <td>43</td>\n",
       "      <td>10</td>\n",
       "      <td>5</td>\n",
       "    </tr>\n",
       "    <tr>\n",
       "      <th>top</th>\n",
       "      <td>ham</td>\n",
       "      <td>Sorry, I'll call later</td>\n",
       "      <td>bt not his girlfrnd... G o o d n i g h t . . .@\"</td>\n",
       "      <td>MK17 92H. 450Ppw 16\"</td>\n",
       "      <td>GNT:-)\"</td>\n",
       "    </tr>\n",
       "    <tr>\n",
       "      <th>freq</th>\n",
       "      <td>4825</td>\n",
       "      <td>30</td>\n",
       "      <td>3</td>\n",
       "      <td>2</td>\n",
       "      <td>2</td>\n",
       "    </tr>\n",
       "  </tbody>\n",
       "</table>\n",
       "</div>"
      ],
      "text/plain": [
       "          v1                      v2  \\\n",
       "count   5572                    5572   \n",
       "unique     2                    5169   \n",
       "top      ham  Sorry, I'll call later   \n",
       "freq    4825                      30   \n",
       "\n",
       "                                                       v3  \\\n",
       "count                                                  50   \n",
       "unique                                                 43   \n",
       "top      bt not his girlfrnd... G o o d n i g h t . . .@\"   \n",
       "freq                                                    3   \n",
       "\n",
       "                           v4       v5  \n",
       "count                      12        6  \n",
       "unique                     10        5  \n",
       "top      MK17 92H. 450Ppw 16\"  GNT:-)\"  \n",
       "freq                        2        2  "
      ]
     },
     "metadata": {},
     "output_type": "display_data"
    },
    {
     "name": "stdout",
     "output_type": "stream",
     "text": [
      "info\n",
      "<class 'pandas.core.frame.DataFrame'>\n",
      "RangeIndex: 5572 entries, 0 to 5571\n",
      "Data columns (total 5 columns):\n",
      " #   Column  Non-Null Count  Dtype \n",
      "---  ------  --------------  ----- \n",
      " 0   v1      5572 non-null   object\n",
      " 1   v2      5572 non-null   object\n",
      " 2   v3      50 non-null     object\n",
      " 3   v4      12 non-null     object\n",
      " 4   v5      6 non-null      object\n",
      "dtypes: object(5)\n",
      "memory usage: 217.8+ KB\n"
     ]
    },
    {
     "data": {
      "text/plain": [
       "None"
      ]
     },
     "metadata": {},
     "output_type": "display_data"
    },
    {
     "name": "stdout",
     "output_type": "stream",
     "text": [
      "V3\n"
     ]
    },
    {
     "data": {
      "text/plain": [
       "array([nan, ' PO Box 5249',\n",
       "       ' the person is definitely special for u..... But if the person is so special',\n",
       "       ' HOWU DOIN? FOUNDURSELF A JOBYET SAUSAGE?LOVE JEN XXX\\\\\"\"',\n",
       "       ' wanted to say hi. HI!!!\\\\\" Stop? Send STOP to 62468\"',\n",
       "       'this wont even start........ Datz confidence..\"', 'GN',\n",
       "       '.;-):-D\"',\n",
       "       'just been in bedbut mite go 2 thepub l8tr if uwana mt up?loads a luv Jenxxx.\\\\\"\"',\n",
       "       ' bt not his girlfrnd... G o o d n i g h t . . .@\"',\n",
       "       ' I\\'ll come up\"',\n",
       "       ' don\\'t miss ur best life for anything... Gud nyt...\"',\n",
       "       ' just as a shop has to give a guarantee on what they sell. B. G.\"',\n",
       "       ' But at d end my love compromised me for everything:-(\\\\\".. Gud mornin:-)\"',\n",
       "       ' the toughest is acting Happy with all unspoken pain inside..\\\\\"\"',\n",
       "       ' smoke hella weed\\\\\"\"', '\\\\\" not \\\\\"what i need to do.\\\\\"\"',\n",
       "       'JUST GOT PAYED2DAY & I HAVBEEN GIVEN Aï¿½50 PAY RISE 4MY WORK & HAVEBEEN MADE PRESCHOOLCO-ORDINATOR 2I AM FEELINGOOD LUV\\\\\"\"',\n",
       "       ' justthought iï¿½ï¿½d sayhey! how u doin?nearly the endof me wk offdam nevamind!We will have 2Hook up sn if uwant m8? loveJen x.\\\\\"\"',\n",
       "       'JUST REALLYNEED 2DOCD.PLEASE DONTPLEASE DONTIGNORE MYCALLS',\n",
       "       'u hav2hear it!c u sn xxxx\\\\\"\"', \" I don't mind\",\n",
       "       ' Dont Come Near My Body..!! Bcoz My Hands May Not Come 2 Wipe Ur Tears Off That Time..!Gud ni8\"',\n",
       "       \"Well there's still a bit left if you guys want to tonight\",\n",
       "       ' but dont try to prove\\\\\" ..... Gud mrng...\"',\n",
       "       ' SHE SHUDVETOLD U. DID URGRAN KNOW?NEWAY',\n",
       "       ' but watever u shared should be true\\\\\"....\"',\n",
       "       ' like you are the KING\\\\\"...! OR \\\\\"Walk like you Dont care',\n",
       "       ' HAD A COOL NYTHO', ' PO Box 1146 MK45 2WT (2/3)\"',\n",
       "       ' \\\\\"It is d wonderful fruit that a tree gives when it is being hurt by a stone.. Good night......\"',\n",
       "       ' we made you hold all the weed\\\\\"\"',\n",
       "       ' but dont try to prove it..\\\\\" .Gud noon....\"',\n",
       "       ' its a miracle to Love a person who can\\'t Love anyone except U...\\\\\" Gud nyt...\"',\n",
       "       ' Gud night....\"',\n",
       "       ' that\\'s the tiny street where the parking lot is\"',\n",
       "       'PROBPOP IN & CU SATTHEN HUNNY 4BREKKIE! LOVE JEN XXX. PSXTRA LRG PORTIONS 4 ME PLEASE \\\\\"\"',\n",
       "       ' hopeSo hunny. i amnow feelin ill & ithink i may have tonsolitusaswell! damn iam layin in bedreal bored. lotsof luv me xxxx\\\\\"\"',\n",
       "       ' GOD said',\n",
       "       ' always give response 2 who cares 4 U\\\\\"... Gud night..swt dreams..take care\"',\n",
       "       ' HOPE UR OK... WILL GIVE U A BUZ WEDLUNCH. GO OUTSOMEWHERE 4 ADRINK IN TOWN..CUD GO 2WATERSHD 4 A BIT? PPL FROMWRK WILL BTHERE. LOVE PETEXXX.\\\\\"\"',\n",
       "       ' b\\'coz nobody will fight for u. Only u &amp; u have to fight for ur self &amp; win the battle. -VIVEKANAND- G 9t.. SD..\"',\n",
       "       'DEVIOUSBITCH.ANYWAY',\n",
       "       ' ENJOYIN INDIANS AT THE MO..yeP. SaLL gOoD HehE ;> hows bout u shexy? Pete Xx\\\\\"\"'],\n",
       "      dtype=object)"
      ]
     },
     "metadata": {},
     "output_type": "display_data"
    },
    {
     "name": "stdout",
     "output_type": "stream",
     "text": [
      "V4\n"
     ]
    },
    {
     "data": {
      "text/plain": [
       "array([nan, ' MK17 92H. 450Ppw 16\"', ' why to miss them', 'GE',\n",
       "       'U NO THECD ISV.IMPORTANT TOME 4 2MORO\\\\\"\"',\n",
       "       'i wil tolerat.bcs ur my someone..... But',\n",
       "       ' ILLSPEAK 2 U2MORO WEN IM NOT ASLEEP...\\\\\"\"',\n",
       "       'whoever is the KING\\\\\"!... Gud nyt\"', ' TX 4 FONIN HON',\n",
       "       ' \\\\\"OH No! COMPETITION\\\\\". Who knew', 'Iï¿½ï¿½L CALL U\\\\\"\"'],\n",
       "      dtype=object)"
      ]
     },
     "metadata": {},
     "output_type": "display_data"
    },
    {
     "name": "stdout",
     "output_type": "stream",
     "text": [
      "V5\n"
     ]
    },
    {
     "data": {
      "text/plain": [
       "array([nan, ' just Keep-in-touch\\\\\" gdeve..\"', 'GNT:-)\"',\n",
       "       ' Never comfort me with a lie\\\\\" gud ni8 and sweet dreams\"',\n",
       "       ' CALL 2MWEN IM BK FRMCLOUD 9! J X\\\\\"\"',\n",
       "       ' one day these two will become FREINDS FOREVER!\"'], dtype=object)"
      ]
     },
     "metadata": {},
     "output_type": "display_data"
    }
   ],
   "source": [
    "print(\"Describe\")\n",
    "display(df.describe())\n",
    "print(\"info\")\n",
    "display(df.info())\n",
    "df.tail(20)\n",
    "print(\"V3\")\n",
    "display(df[\"v3\"].unique())\n",
    "print(\"V4\")\n",
    "display(df[\"v4\"].unique())\n",
    "print(\"V5\")\n",
    "display(df[\"v5\"].unique())\n"
   ]
  },
  {
   "cell_type": "code",
   "execution_count": null,
   "id": "3e96c0d8",
   "metadata": {},
   "outputs": [],
   "source": []
  },
  {
   "cell_type": "code",
   "execution_count": null,
   "id": "08fc6257",
   "metadata": {},
   "outputs": [],
   "source": []
  },
  {
   "cell_type": "code",
   "execution_count": null,
   "id": "e6397fc6",
   "metadata": {},
   "outputs": [],
   "source": []
  }
 ],
 "metadata": {
  "kernelspec": {
   "display_name": "pytorch",
   "language": "python",
   "name": "python3"
  },
  "language_info": {
   "codemirror_mode": {
    "name": "ipython",
    "version": 3
   },
   "file_extension": ".py",
   "mimetype": "text/x-python",
   "name": "python",
   "nbconvert_exporter": "python",
   "pygments_lexer": "ipython3",
   "version": "3.12.11"
  }
 },
 "nbformat": 4,
 "nbformat_minor": 5
}
